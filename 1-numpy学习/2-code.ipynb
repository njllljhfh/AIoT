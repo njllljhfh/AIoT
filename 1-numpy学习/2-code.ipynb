{
 "cells": [
  {
   "cell_type": "markdown",
   "id": "e435bdf9",
   "metadata": {},
   "source": [
    "## 索引切片"
   ]
  },
  {
   "cell_type": "code",
   "execution_count": 1,
   "id": "ac20ad46",
   "metadata": {},
   "outputs": [
    {
     "data": {
      "text/plain": [
       "array([[ 3, -4,  7, -2,  2,  4],\n",
       "       [10, 13,  3, -5, 13, -5],\n",
       "       [ 2,  3,  5, -3,  1, 11],\n",
       "       [-2, 10,  9, -2, -3, 12],\n",
       "       [-1, -5,  8,  8, 10, -2]])"
      ]
     },
     "execution_count": 1,
     "metadata": {},
     "output_type": "execute_result"
    }
   ],
   "source": [
    "import numpy as np\n",
    "\n",
    "nd2 = np.random.randint(-5,15,size=(5,6))\n",
    "\n",
    "nd2"
   ]
  },
  {
   "cell_type": "code",
   "execution_count": 2,
   "id": "4b56183a",
   "metadata": {},
   "outputs": [
    {
     "data": {
      "text/plain": [
       "array([[10, 13,  3, -5, 13, -5],\n",
       "       [-2, 10,  9, -2, -3, 12]])"
      ]
     },
     "execution_count": 2,
     "metadata": {},
     "output_type": "execute_result"
    }
   ],
   "source": [
    "nd2[[1,3]]"
   ]
  },
  {
   "cell_type": "code",
   "execution_count": 3,
   "id": "6729e0b3",
   "metadata": {},
   "outputs": [
    {
     "data": {
      "text/plain": [
       "array([[-4, -2,  4],\n",
       "       [13, -5, -5],\n",
       "       [ 3, -3, 11],\n",
       "       [10, -2, 12],\n",
       "       [-5,  8, -2]])"
      ]
     },
     "execution_count": 3,
     "metadata": {},
     "output_type": "execute_result"
    }
   ],
   "source": [
    "nd2[:,[1,3,5]]"
   ]
  },
  {
   "cell_type": "code",
   "execution_count": 4,
   "id": "38f6345e",
   "metadata": {},
   "outputs": [
    {
     "ename": "IndexError",
     "evalue": "shape mismatch: indexing arrays could not be broadcast together with shapes (2,) (3,) ",
     "output_type": "error",
     "traceback": [
      "\u001b[1;31m---------------------------------------------------------------------------\u001b[0m",
      "\u001b[1;31mIndexError\u001b[0m                                Traceback (most recent call last)",
      "Cell \u001b[1;32mIn[4], line 1\u001b[0m\n\u001b[1;32m----> 1\u001b[0m \u001b[43mnd2\u001b[49m\u001b[43m[\u001b[49m\u001b[43m[\u001b[49m\u001b[38;5;241;43m1\u001b[39;49m\u001b[43m,\u001b[49m\u001b[38;5;241;43m3\u001b[39;49m\u001b[43m]\u001b[49m\u001b[43m,\u001b[49m\u001b[43m \u001b[49m\u001b[43m[\u001b[49m\u001b[38;5;241;43m1\u001b[39;49m\u001b[43m,\u001b[49m\u001b[38;5;241;43m3\u001b[39;49m\u001b[43m,\u001b[49m\u001b[38;5;241;43m5\u001b[39;49m\u001b[43m]\u001b[49m\u001b[43m]\u001b[49m  \u001b[38;5;66;03m# 会报错\u001b[39;00m\n",
      "\u001b[1;31mIndexError\u001b[0m: shape mismatch: indexing arrays could not be broadcast together with shapes (2,) (3,) "
     ]
    }
   ],
   "source": [
    "nd2[[1,3], [1,3,5]]  # 会报错"
   ]
  },
  {
   "cell_type": "code",
   "execution_count": null,
   "id": "59055bff",
   "metadata": {},
   "outputs": [],
   "source": [
    "nd2[[1,4], [3,5]]  # 获取1行3列数据 和 4行5列数据"
   ]
  },
  {
   "cell_type": "markdown",
   "id": "f202a92e",
   "metadata": {},
   "source": [
    "### 方式1"
   ]
  },
  {
   "cell_type": "code",
   "execution_count": null,
   "id": "63dd7491",
   "metadata": {},
   "outputs": [],
   "source": [
    "nd2[[1,3]][:,[1,3,5]]  # 获取第1、3行 的 第 1、3、5列数据"
   ]
  },
  {
   "cell_type": "markdown",
   "id": "29d8e274",
   "metadata": {},
   "source": [
    "### 方式2"
   ]
  },
  {
   "cell_type": "code",
   "execution_count": null,
   "id": "bd575545",
   "metadata": {},
   "outputs": [],
   "source": [
    "np.ix_([1,3],[1,3,5])"
   ]
  },
  {
   "cell_type": "code",
   "execution_count": null,
   "id": "77e19ac7",
   "metadata": {},
   "outputs": [],
   "source": [
    "# 获取第1、3行 的 第 1、3、5列数据\n",
    "index = np.ix_([1,3],[1,3,5])\n",
    "nd2[index]  # 相当于 nd2[[1,3]][:,[1,3,5]] "
   ]
  },
  {
   "cell_type": "markdown",
   "id": "5332c632",
   "metadata": {},
   "source": [
    "## 形状改变"
   ]
  },
  {
   "cell_type": "markdown",
   "id": "cde91561",
   "metadata": {},
   "source": [
    "### reshape"
   ]
  },
  {
   "cell_type": "code",
   "execution_count": null,
   "id": "609dadc6",
   "metadata": {},
   "outputs": [],
   "source": [
    "nd2 = np.random.randint(0,100,size=(3,4))\n",
    "display(nd2)\n",
    "\n",
    "# 数据重塑reshape\n",
    "display(nd2.reshape(4,3))  # 一行一行数\n",
    "\n",
    "print(\"2行6列：\")\n",
    "display(nd2.reshape(2,6))\n",
    "# -1表示最后计算，相当于 x * 6 = 3 * 4  ----> x = 2\n",
    "display(nd2.reshape(-1,6))\n",
    "\n",
    "display(nd2.reshape(-1))"
   ]
  },
  {
   "cell_type": "code",
   "execution_count": null,
   "id": "eea82769",
   "metadata": {},
   "outputs": [],
   "source": [
    "# 下面代码会报错，因为 3*5 不等于 3*4，所以无法转换\n",
    "nd2.reshape(3,5)"
   ]
  },
  {
   "cell_type": "markdown",
   "id": "0c645641",
   "metadata": {},
   "source": [
    "### 叠加"
   ]
  },
  {
   "cell_type": "code",
   "execution_count": null,
   "id": "6cb623a8",
   "metadata": {},
   "outputs": [],
   "source": [
    "arr1 = np.random.randint(0,10,size = (2,4))\n",
    "\n",
    "arr2 = np.random.randint(-5,5,size = (3,4))\n",
    "\n",
    "display(arr1, arr2)\n",
    "\n",
    "# 合并，默认进行行合并，行变多\n",
    "np.concatenate([arr1,arr2])"
   ]
  },
  {
   "cell_type": "code",
   "execution_count": null,
   "id": "fb2769c3",
   "metadata": {},
   "outputs": [],
   "source": [
    "arr1 = np.random.randint(0,10,size = (3,5))\n",
    "\n",
    "arr2 = np.random.randint(-5,5,size = (3,4))\n",
    "\n",
    "display(arr1, arr2)\n",
    "\n",
    "# 合并\n",
    "# axis = 0 默认值，代表行\n",
    "# axis = 1 代表列\n",
    "np.concatenate([arr1,arr2],axis = 1)"
   ]
  },
  {
   "cell_type": "markdown",
   "id": "196be270",
   "metadata": {},
   "source": [
    "### 拆分"
   ]
  },
  {
   "cell_type": "code",
   "execution_count": null,
   "id": "17e91d96",
   "metadata": {},
   "outputs": [],
   "source": [
    "nd = np.random.randint(0,100,size=(6,9))\n",
    "display(nd)\n",
    "\n",
    "print(\"行拆分:\")\n",
    "# 给一个数字表示，平均分成多少份\n",
    "display(np.split(nd, 2))\n",
    "\n",
    "# 给一个列表，表示，从列表中的索引处进行拆分\n",
    "display(np.split(nd,[1,4,5],axis=0))\n",
    "\n",
    "print(\"列拆分:\")\n",
    "display(np.split(nd,[1,4,5],axis=1))"
   ]
  },
  {
   "cell_type": "markdown",
   "id": "e3c07590",
   "metadata": {},
   "source": [
    "### 数组转置"
   ]
  },
  {
   "cell_type": "code",
   "execution_count": null,
   "id": "602c0b11",
   "metadata": {},
   "outputs": [],
   "source": [
    "A = np.random.randint(0,10,size=(3,5))\n",
    "\n",
    "print(\"原数据\")\n",
    "display(A)\n",
    "\n",
    "print(\"reshape:\")\n",
    "display(A.reshape(5,3))\n",
    "\n",
    "print(\"转置,行变列，列变行：\")\n",
    "display(A.T)"
   ]
  },
  {
   "cell_type": "code",
   "execution_count": null,
   "id": "8d6f5168",
   "metadata": {},
   "outputs": [],
   "source": [
    "np.transpose(A,axes=[1,0])"
   ]
  },
  {
   "cell_type": "markdown",
   "id": "8cbedab6",
   "metadata": {},
   "source": [
    "## 广播"
   ]
  },
  {
   "cell_type": "code",
   "execution_count": null,
   "id": "25b5b9d4",
   "metadata": {},
   "outputs": [],
   "source": [
    "arr1 = np.random.randint(0,10,size=(5,3))\n",
    "\n",
    "arr2 = np.arange(1,4)\n",
    "\n",
    "display(arr1,arr2)\n",
    "\n",
    "# arr2 只有1行，arr1有5行\n",
    "# 广播机制：arr2变成了5份，每一份分别和arr1的每一行相加\n",
    "arr1 + arr2"
   ]
  },
  {
   "cell_type": "code",
   "execution_count": null,
   "id": "e98a782d",
   "metadata": {},
   "outputs": [],
   "source": [
    "arr3 = np.random.randint(0,10,size=(4,5))\n",
    "\n",
    "# 沿着列的方向，求每行的平均值，结果有4个数\n",
    "arr4 = arr3.mean(axis = 1) \n",
    "\n",
    "display(arr3,arr4)\n",
    "\n",
    "# 形状改变，4行1列\n",
    "display(arr4.reshape(4,1))\n",
    "\n",
    "# arr3有4行，arr4.reshape(4,1)也有4行\n",
    "# arr3的每一列都减去 arr4.reshape(4,1)\n",
    "arr3 - arr4.reshape(4,1)"
   ]
  },
  {
   "cell_type": "code",
   "execution_count": null,
   "id": "0d958945",
   "metadata": {},
   "outputs": [],
   "source": [
    "# 二维数组，在三维数组上广播\n",
    "arr1 = np.array([0,1,2,3,4,5,6,7]*3).reshape(3,4,2)  # shape(3,4,2)\n",
    "arr2 = np.array([0,1,2,3,4,5,6,7]).reshape(4,2)  # shape(4,2)\n",
    "\n",
    "print(\"三维数组：\")\n",
    "display(arr1)\n",
    "\n",
    "print(\"二维数组：\")\n",
    "display(arr2)\n",
    "\n",
    "print(\"相加后：\")\n",
    "arr3 = arr1 + arr2  # arr2数组在 arr1数组0轴上，复制3份，分别与arr1数组0轴上的数据相加\n",
    "display(arr3)"
   ]
  },
  {
   "cell_type": "markdown",
   "id": "3e020433",
   "metadata": {},
   "source": [
    "## 通用函数"
   ]
  },
  {
   "cell_type": "markdown",
   "id": "b37ca55c",
   "metadata": {},
   "source": [
    "### 一般函数"
   ]
  },
  {
   "cell_type": "code",
   "execution_count": 7,
   "id": "17df109e",
   "metadata": {},
   "outputs": [
    {
     "data": {
      "text/plain": [
       "1.0"
      ]
     },
     "execution_count": 7,
     "metadata": {},
     "output_type": "execute_result"
    }
   ],
   "source": [
    "# sin(90)\n",
    "np.sin(np.pi/2)"
   ]
  },
  {
   "cell_type": "code",
   "execution_count": 12,
   "id": "544d6a15",
   "metadata": {},
   "outputs": [
    {
     "name": "stdout",
     "output_type": "stream",
     "text": [
      "6.123233995736766e-17\n",
      "0.0\n"
     ]
    }
   ],
   "source": [
    "print(np.cos(np.pi/2))\n",
    "\n",
    "# round，保留几位小数\n",
    "print(np.cos(np.pi/2).round(5))"
   ]
  },
  {
   "cell_type": "code",
   "execution_count": 14,
   "id": "079f0bc5",
   "metadata": {},
   "outputs": [
    {
     "data": {
      "text/plain": [
       "32.0"
      ]
     },
     "execution_count": 14,
     "metadata": {},
     "output_type": "execute_result"
    }
   ],
   "source": [
    "# 开平方\n",
    "np.sqrt(1024)"
   ]
  },
  {
   "cell_type": "code",
   "execution_count": 16,
   "id": "b4869a9e",
   "metadata": {},
   "outputs": [
    {
     "data": {
      "text/plain": [
       "64"
      ]
     },
     "execution_count": 16,
     "metadata": {},
     "output_type": "execute_result"
    }
   ],
   "source": [
    "# 平方\n",
    "np.square(8)"
   ]
  },
  {
   "cell_type": "code",
   "execution_count": 46,
   "id": "2c6c809d",
   "metadata": {},
   "outputs": [
    {
     "data": {
      "text/plain": [
       "27"
      ]
     },
     "execution_count": 46,
     "metadata": {},
     "output_type": "execute_result"
    }
   ],
   "source": [
    "# 3次方\n",
    "def fun(x):\n",
    "    return x**3\n",
    "fun(3)"
   ]
  },
  {
   "cell_type": "code",
   "execution_count": 47,
   "id": "737c465d",
   "metadata": {},
   "outputs": [
    {
     "data": {
      "text/plain": [
       "3.0"
      ]
     },
     "execution_count": 47,
     "metadata": {},
     "output_type": "execute_result"
    }
   ],
   "source": [
    "# 开3次方\n",
    "def fun2(x):\n",
    "    return x**(1/3)\n",
    "fun2(27)"
   ]
  },
  {
   "cell_type": "code",
   "execution_count": 21,
   "id": "2c3f5c18",
   "metadata": {},
   "outputs": [
    {
     "data": {
      "text/plain": [
       "9"
      ]
     },
     "execution_count": 21,
     "metadata": {},
     "output_type": "execute_result"
    }
   ],
   "source": [
    "# 3的2次幂\n",
    "np.power(3,2)"
   ]
  },
  {
   "cell_type": "code",
   "execution_count": 53,
   "id": "db46842d",
   "metadata": {},
   "outputs": [
    {
     "name": "stdout",
     "output_type": "stream",
     "text": [
      "3.9999999999999996\n",
      "4.0\n"
     ]
    }
   ],
   "source": [
    "# 开3次方\n",
    "print(np.power(64, 1/3))\n",
    "print(np.power(64, 1/3).round(1))"
   ]
  },
  {
   "cell_type": "code",
   "execution_count": 22,
   "id": "722621dc",
   "metadata": {},
   "outputs": [
    {
     "data": {
      "text/plain": [
       "4.0"
      ]
     },
     "execution_count": 22,
     "metadata": {},
     "output_type": "execute_result"
    }
   ],
   "source": [
    "np.log2(16)"
   ]
  },
  {
   "cell_type": "code",
   "execution_count": 28,
   "id": "3b5d11e0",
   "metadata": {},
   "outputs": [
    {
     "data": {
      "text/plain": [
       "array([2, 5, 3, 9, 3, 9, 8])"
      ]
     },
     "execution_count": 28,
     "metadata": {},
     "output_type": "execute_result"
    }
   ],
   "source": [
    "x = np.array([1,5,2,9,3,6,8])\n",
    "y = np.array([2,4,3,7,1,9,0])\n",
    "np.maximum(x, y)  # 返回两个数组中,相同索引位置比较大的值，两个数组的形状要一样"
   ]
  },
  {
   "cell_type": "code",
   "execution_count": 54,
   "id": "56ef1e91",
   "metadata": {},
   "outputs": [
    {
     "data": {
      "text/plain": [
       "array([[5, 8],\n",
       "       [9, 5],\n",
       "       [0, 0]])"
      ]
     },
     "metadata": {},
     "output_type": "display_data"
    },
    {
     "data": {
      "text/plain": [
       "array([5, 8])"
      ]
     },
     "metadata": {},
     "output_type": "display_data"
    },
    {
     "data": {
      "text/plain": [
       "array([89, 85,  0])"
      ]
     },
     "execution_count": 54,
     "metadata": {},
     "output_type": "execute_result"
    }
   ],
   "source": [
    "np.random.seed(1)\n",
    "arr2 = np.random.randint(0,10,size=(3,2))\n",
    "display(arr2)\n",
    "display(arr2[0])\n",
    "np.inner(arr2[0], arr2)  # 返回一维数组向量内积"
   ]
  },
  {
   "cell_type": "code",
   "execution_count": 56,
   "id": "ca32a335",
   "metadata": {},
   "outputs": [
    {
     "data": {
      "text/plain": [
       "4.0"
      ]
     },
     "execution_count": 56,
     "metadata": {},
     "output_type": "execute_result"
    }
   ],
   "source": [
    "a = 3.999\n",
    "np.ceil(a)  # 向上取整"
   ]
  },
  {
   "cell_type": "code",
   "execution_count": 57,
   "id": "eb74d9b6",
   "metadata": {},
   "outputs": [
    {
     "data": {
      "text/plain": [
       "3.0"
      ]
     },
     "execution_count": 57,
     "metadata": {},
     "output_type": "execute_result"
    }
   ],
   "source": [
    "np.floor(a)  # 向下取整"
   ]
  },
  {
   "cell_type": "code",
   "execution_count": 59,
   "id": "2f89dd73",
   "metadata": {},
   "outputs": [
    {
     "data": {
      "text/plain": [
       "array([23, 23,  9, 17, 23,  0, 22, 13,  9,  9,  7, 29, 22, 25,  1,  0, 28,\n",
       "       17,  8, 24])"
      ]
     },
     "execution_count": 59,
     "metadata": {},
     "output_type": "execute_result"
    }
   ],
   "source": [
    "arr = np.random.randint(0,30,size=(20))\n",
    "arr"
   ]
  },
  {
   "cell_type": "code",
   "execution_count": 72,
   "id": "35299efe",
   "metadata": {},
   "outputs": [
    {
     "data": {
      "text/plain": [
       "array([20, 20, 10, 17, 20, 10, 20, 13, 10, 10, 10, 20, 20, 20, 10, 10, 20,\n",
       "       17, 10, 20])"
      ]
     },
     "execution_count": 72,
     "metadata": {},
     "output_type": "execute_result"
    }
   ],
   "source": [
    "# clip裁剪，\n",
    "# 10：小于10的数据变成10\n",
    "# 20：大于20的数据变成20\n",
    "np.clip(arr,10,20)"
   ]
  },
  {
   "cell_type": "code",
   "execution_count": 109,
   "id": "2a2137b9",
   "metadata": {},
   "outputs": [
    {
     "data": {
      "text/plain": [
       "array([ 2, 85, 93, 36, 46, 80, 27, 72, 28,  2])"
      ]
     },
     "metadata": {},
     "output_type": "display_data"
    },
    {
     "data": {
      "text/plain": [
       "array([ 2,  2, 27, 28, 36, 46, 72, 80, 85, 93])"
      ]
     },
     "metadata": {},
     "output_type": "display_data"
    },
    {
     "name": "stdout",
     "output_type": "stream",
     "text": [
      "中位数： 41.0\n"
     ]
    }
   ],
   "source": [
    "arr = np.random.randint(0,100,size=(10))\n",
    "display(arr)\n",
    "arr.sort()\n",
    "display(arr)\n",
    "\n",
    "# 数据总数是基数：直接去中间的数\n",
    "# 数据总数是偶数：去中间的两个数的和，然后取平均值\n",
    "print(\"中位数：\", np.median(arr)) "
   ]
  },
  {
   "cell_type": "markdown",
   "id": "e82c32df",
   "metadata": {},
   "source": [
    "### where函数"
   ]
  },
  {
   "cell_type": "code",
   "execution_count": 74,
   "id": "55af4e19",
   "metadata": {},
   "outputs": [
    {
     "data": {
      "text/plain": [
       "array([ 1,  4,  5,  7, 10])"
      ]
     },
     "execution_count": 74,
     "metadata": {},
     "output_type": "execute_result"
    }
   ],
   "source": [
    "import numpy as np\n",
    "arr1 = np.array([1,3,5,7,9])\n",
    "arr2 = np.array([2,4,6,8,10])\n",
    "\n",
    "cond = np.array([True,False,True,True,False])\n",
    "\n",
    "# 根据条件进行筛选\n",
    "np.where(cond,arr1,arr2)  # True选择arr1，False选择arr2的值"
   ]
  },
  {
   "cell_type": "code",
   "execution_count": 78,
   "id": "69ba693f",
   "metadata": {},
   "outputs": [
    {
     "data": {
      "text/plain": [
       "array([10, 14,  0, 24, 23, 23,  1, 17, 13,  3,  0, 24, 29, 13,  6, 20, 21,\n",
       "        6,  2, 12])"
      ]
     },
     "metadata": {},
     "output_type": "display_data"
    },
    {
     "data": {
      "text/plain": [
       "array([ 10,  14,   0, -15, -15, -15,   1, -15,  13,   3,   0, -15, -15,\n",
       "        13,   6, -15, -15,   6,   2,  12])"
      ]
     },
     "execution_count": 78,
     "metadata": {},
     "output_type": "execute_result"
    }
   ],
   "source": [
    "arr3 = np.random.randint(0,30,size = 20)\n",
    "display(arr3)\n",
    "\n",
    "np.where(arr3 < 15, arr3, -15)  # 小于15还是自己的值，大于15设置成-15"
   ]
  },
  {
   "cell_type": "code",
   "execution_count": 80,
   "id": "3bc9d18f",
   "metadata": {},
   "outputs": [
    {
     "data": {
      "text/plain": [
       "array([104,  87, 171,  74,   0,  86, 173,  51,  46, 139,  86,  15, 132,\n",
       "       131, 106,  33, 124, 174, 177, 133,  14, 127,  43,  59, 154,  91,\n",
       "        11,  30,  67, 167, 103,  37, 158,  35,  77, 134, 146,  35, 106,\n",
       "        56,  36, 118, 147,  53,  65,  25, 171,  23, 120,  73])"
      ]
     },
     "execution_count": 80,
     "metadata": {},
     "output_type": "execute_result"
    }
   ],
   "source": [
    "# 满分为150分考试成绩的数据，错误数据用 -1024 表示\n",
    "arr4 = np.random.randint(-10,180,size=50)\n",
    "arr4"
   ]
  },
  {
   "cell_type": "code",
   "execution_count": 82,
   "id": "f58dbf15",
   "metadata": {},
   "outputs": [
    {
     "data": {
      "text/plain": [
       "array([  104,    87, -1024,    74,     0,    86, -1024,    51,    46,\n",
       "         139,    86,    15,   132,   131,   106,    33,   124, -1024,\n",
       "       -1024,   133,    14,   127,    43,    59, -1024,    91,    11,\n",
       "          30,    67, -1024,   103,    37, -1024,    35,    77,   134,\n",
       "         146,    35,   106,    56,    36,   118,   147,    53,    65,\n",
       "          25, -1024,    23,   120,    73])"
      ]
     },
     "execution_count": 82,
     "metadata": {},
     "output_type": "execute_result"
    }
   ],
   "source": [
    "np.where((arr4 < 0) | (arr4 > 150), -1024, arr4)"
   ]
  },
  {
   "cell_type": "markdown",
   "id": "2d78c7bf",
   "metadata": {},
   "source": [
    "### 集合运算函数"
   ]
  },
  {
   "cell_type": "code",
   "execution_count": 110,
   "id": "984ac0e8",
   "metadata": {},
   "outputs": [
    {
     "name": "stdout",
     "output_type": "stream",
     "text": [
      "交集：\n",
      "[4 6]\n",
      "并集：\n",
      "[2 3 4 5 6 8]\n",
      "差集：\n",
      "[2 8]\n",
      "[3 5]\n"
     ]
    }
   ],
   "source": [
    "A = np.array([2,4,6,8])\n",
    "B = np.array([3,4,5,6])\n",
    "\n",
    "print(\"交集：\")\n",
    "print(np.intersect1d(A,B))\n",
    "\n",
    "print(\"并集：\")\n",
    "print(np.union1d(A,B))\n",
    "\n",
    "print(\"差集：\")\n",
    "print(np.setdiff1d(A,B)) # A中有，B中没有\n",
    "print(np.setdiff1d(B,A)) # B中有，A中没有"
   ]
  },
  {
   "cell_type": "markdown",
   "id": "0a7e26c3",
   "metadata": {},
   "source": [
    "### 矩阵运算"
   ]
  },
  {
   "cell_type": "code",
   "execution_count": 113,
   "id": "12790355",
   "metadata": {},
   "outputs": [
    {
     "name": "stdout",
     "output_type": "stream",
     "text": [
      "点乘，矩阵运算：\n",
      " [[ 25  23]\n",
      " [ -4 -11]]\n"
     ]
    }
   ],
   "source": [
    "A = np.array([[4,2,3],\n",
    "              [1,3,1]])  # shape(2,3)\n",
    "B = np.array([[2,7],\n",
    "              [-5,-7],\n",
    "              [9,3]])  # shape(3,2)\n",
    "\n",
    "print(\"点乘，矩阵运算：\\n\", np.dot(A,B)) # 矩阵运算， A的最后一维和B的第一维必须一致"
   ]
  },
  {
   "cell_type": "code",
   "execution_count": 115,
   "id": "c919f387",
   "metadata": {},
   "outputs": [
    {
     "data": {
      "text/plain": [
       "array([[ 25,  23],\n",
       "       [ -4, -11]])"
      ]
     },
     "execution_count": 115,
     "metadata": {},
     "output_type": "execute_result"
    }
   ],
   "source": [
    "A @ B  # 符号 @ 表示矩阵乘积运算"
   ]
  },
  {
   "cell_type": "code",
   "execution_count": 117,
   "id": "cacb7db5",
   "metadata": {},
   "outputs": [
    {
     "data": {
      "text/plain": [
       "array([[ 25,  23],\n",
       "       [ -4, -11]])"
      ]
     },
     "execution_count": 117,
     "metadata": {},
     "output_type": "execute_result"
    }
   ],
   "source": [
    "A.dot(B)"
   ]
  },
  {
   "cell_type": "code",
   "execution_count": 129,
   "id": "f55d80f5",
   "metadata": {},
   "outputs": [
    {
     "name": "stdout",
     "output_type": "stream",
     "text": [
      "逆矩阵：\n"
     ]
    },
    {
     "data": {
      "text/plain": [
       "array([[-2. ,  0.5,  0.5],\n",
       "       [ 0. ,  2. , -1. ],\n",
       "       [ 1. , -1.5,  0.5]])"
      ]
     },
     "metadata": {},
     "output_type": "display_data"
    },
    {
     "name": "stdout",
     "output_type": "stream",
     "text": [
      "单位矩阵：\n"
     ]
    },
    {
     "data": {
      "text/plain": [
       "array([[1., 0., 0.],\n",
       "       [0., 1., 0.],\n",
       "       [0., 0., 1.]])"
      ]
     },
     "execution_count": 129,
     "metadata": {},
     "output_type": "execute_result"
    }
   ],
   "source": [
    "# 计算矩阵的逆\n",
    "from numpy.linalg import inv, det, eig, qr, svd\n",
    "np.set_printoptions(suppress=True)\n",
    "A = np.array([\n",
    "    [1,2,3],\n",
    "    [2,3,4],\n",
    "    [4,5,8]\n",
    "])\n",
    "\n",
    "print(\"逆矩阵：\")\n",
    "B = inv(A)  # A的逆矩阵\n",
    "display(B)\n",
    "\n",
    "print(\"单位矩阵：\")\n",
    "A.dot(B)  # 单位矩阵"
   ]
  },
  {
   "cell_type": "code",
   "execution_count": 130,
   "id": "a44e21b6",
   "metadata": {},
   "outputs": [
    {
     "data": {
      "text/plain": [
       "-2.0000000000000004"
      ]
     },
     "execution_count": 130,
     "metadata": {},
     "output_type": "execute_result"
    }
   ],
   "source": [
    "# 线性代数相关概念，自行复习!!!!!!!!!!!!!!!!!!!!!!\n",
    "det(A) # 计算矩阵行列式"
   ]
  }
 ],
 "metadata": {
  "kernelspec": {
   "display_name": "Python 3 (ipykernel)",
   "language": "python",
   "name": "python3"
  },
  "language_info": {
   "codemirror_mode": {
    "name": "ipython",
    "version": 3
   },
   "file_extension": ".py",
   "mimetype": "text/x-python",
   "name": "python",
   "nbconvert_exporter": "python",
   "pygments_lexer": "ipython3",
   "version": "3.8.16"
  },
  "toc": {
   "base_numbering": 1,
   "nav_menu": {},
   "number_sections": true,
   "sideBar": true,
   "skip_h1_title": false,
   "title_cell": "Table of Contents",
   "title_sidebar": "Contents",
   "toc_cell": false,
   "toc_position": {
    "height": "calc(100% - 180px)",
    "left": "10px",
    "top": "150px",
    "width": "165px"
   },
   "toc_section_display": true,
   "toc_window_display": true
  }
 },
 "nbformat": 4,
 "nbformat_minor": 5
}
