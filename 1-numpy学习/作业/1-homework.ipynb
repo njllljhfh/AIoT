{
 "cells": [
  {
   "cell_type": "markdown",
   "id": "f5fc441c",
   "metadata": {
    "heading_collapsed": true
   },
   "source": [
    "## 作业1\n",
    "给定一个4维矩阵，如何得到最后两维的和？（提示，指定axis进行计算）"
   ]
  },
  {
   "cell_type": "code",
   "execution_count": 1,
   "id": "55c2d9e7",
   "metadata": {
    "hidden": true
   },
   "outputs": [
    {
     "data": {
      "text/plain": [
       "array([[[[8, 9, 9, 8, 1],\n",
       "         [7, 0, 5, 2, 3],\n",
       "         [2, 2, 7, 6, 5],\n",
       "         [9, 5, 3, 8, 1]],\n",
       "\n",
       "        [[4, 5, 6, 3, 8],\n",
       "         [4, 3, 9, 3, 4],\n",
       "         [3, 5, 7, 2, 3],\n",
       "         [4, 4, 3, 7, 8]],\n",
       "\n",
       "        [[3, 8, 6, 2, 4],\n",
       "         [9, 4, 8, 3, 7],\n",
       "         [5, 2, 4, 8, 0],\n",
       "         [9, 9, 9, 2, 0]]],\n",
       "\n",
       "\n",
       "       [[[6, 3, 5, 6, 5],\n",
       "         [9, 2, 0, 3, 1],\n",
       "         [2, 0, 6, 8, 6],\n",
       "         [1, 2, 8, 8, 9]],\n",
       "\n",
       "        [[5, 8, 0, 0, 6],\n",
       "         [2, 1, 1, 5, 8],\n",
       "         [4, 0, 3, 8, 5],\n",
       "         [6, 1, 9, 5, 5]],\n",
       "\n",
       "        [[3, 3, 5, 0, 1],\n",
       "         [0, 5, 5, 6, 0],\n",
       "         [3, 2, 6, 5, 2],\n",
       "         [7, 8, 2, 8, 3]]]])"
      ]
     },
     "metadata": {},
     "output_type": "display_data"
    },
    {
     "data": {
      "text/plain": [
       "array([[100,  95, 102],\n",
       "       [ 90,  82,  74]])"
      ]
     },
     "metadata": {},
     "output_type": "display_data"
    },
    {
     "data": {
      "text/plain": [
       "100"
      ]
     },
     "metadata": {},
     "output_type": "display_data"
    }
   ],
   "source": [
    "import numpy as np\n",
    "arr = np.random.randint(0,10,size=(2,3,4,5))\n",
    "\n",
    "display(arr)\n",
    "\n",
    "# 最后两维的和\n",
    "display(arr.sum(axis = (-1,-2)))\n",
    "\n",
    "display(arr[0][0].sum())"
   ]
  },
  {
   "cell_type": "markdown",
   "id": "0d50283e",
   "metadata": {
    "heading_collapsed": true
   },
   "source": [
    "## 作业2\n",
    "给定数组[1,2,3,4,5]，如何得到在这个数组的每个元素之间插入3个0后的新数据"
   ]
  },
  {
   "cell_type": "code",
   "execution_count": 2,
   "id": "d2c0f622",
   "metadata": {
    "hidden": true
   },
   "outputs": [
    {
     "name": "stdout",
     "output_type": "stream",
     "text": [
      "[1 2 3 4 5]\n",
      "[0 0 0 0 0 0 0 0 0 0 0 0 0 0 0 0 0]\n",
      "赋值后的数据：\n",
      " [1 0 0 0 2 0 0 0 3 0 0 0 4 0 0 0 5]\n"
     ]
    }
   ],
   "source": [
    "import numpy as np\n",
    "arr1 = np.arange(1,6)\n",
    "print(arr1)\n",
    "\n",
    "arr2 = np.zeros(shape = 17, dtype=np.int16)\n",
    "print(arr2)\n",
    "\n",
    "# 对特定位置的数据进行赋值操作\n",
    "arr2[::4] = arr1\n",
    "print(\"赋值后的数据：\\n\", arr2)"
   ]
  },
  {
   "cell_type": "markdown",
   "id": "9a70d704",
   "metadata": {
    "heading_collapsed": true
   },
   "source": [
    "## 作业3\n",
    "给定一个二维矩阵（5行4列），如何交换其中两行的元素（提示：任意调整，花式索引）"
   ]
  },
  {
   "cell_type": "code",
   "execution_count": 3,
   "id": "7c7443ff",
   "metadata": {
    "hidden": true
   },
   "outputs": [
    {
     "name": "stdout",
     "output_type": "stream",
     "text": [
      "调整前：\n",
      " [[93 38 32 97]\n",
      " [63  1 26 54]\n",
      " [47  1 97 73]\n",
      " [46 33 80 71]\n",
      " [99 17 19 88]]\n",
      "调整后：\n",
      " [[47  1 97 73]\n",
      " [63  1 26 54]\n",
      " [93 38 32 97]\n",
      " [46 33 80 71]\n",
      " [99 17 19 88]]\n"
     ]
    }
   ],
   "source": [
    "import numpy as np\n",
    "arr = np.random.randint(0,100,size=(5,4))\n",
    "\n",
    "print(\"调整前：\\n\", arr)\n",
    "\n",
    "arr = arr[[2,1,0,3,4]] # 调换第1行和第3行\n",
    "print(\"调整后：\\n\", arr)"
   ]
  },
  {
   "cell_type": "markdown",
   "id": "ff3f28fa",
   "metadata": {},
   "source": [
    "## 作业4\n",
    "创建一个100000长度的随机数组，使用两种方法对其球三次方（1、for循环，2、NumPy自带方法），比较所用时间（指令%%time，可以计算运行时间）"
   ]
  },
  {
   "cell_type": "code",
   "execution_count": 4,
   "id": "ca58f2ac",
   "metadata": {
    "code_folding": []
   },
   "outputs": [
    {
     "name": "stdout",
     "output_type": "stream",
     "text": [
      "原数据； [4 6 5 4 1 1 9 0 7 9]\n",
      "NumPy默认方法球三次幂： [ 64 216 125  64   1   1 729   0 343 729]\n",
      "CPU times: total: 0 ns\n",
      "Wall time: 2.01 ms\n"
     ]
    }
   ],
   "source": [
    "%%time\n",
    " # %%time计算其下面代码的运行时间\n",
    "import numpy as np\n",
    "arr = np.random.randint(0,10,size=100000)\n",
    "print(\"原数据；\", arr[:10])\n",
    "arr3 = np.power(arr,3)\n",
    "print(\"NumPy默认方法球三次幂：\", arr3[:10])"
   ]
  },
  {
   "cell_type": "code",
   "execution_count": 5,
   "id": "ca254c3a",
   "metadata": {},
   "outputs": [
    {
     "name": "stdout",
     "output_type": "stream",
     "text": [
      "原数据； [7 7 5 5 9 0 0 9 8 1]\n",
      "for循环求三次幂结果： [343, 343, 125, 125, 729, 0, 0, 729, 512, 1]\n",
      "CPU times: total: 0 ns\n",
      "Wall time: 10 ms\n"
     ]
    }
   ],
   "source": [
    "%%time\n",
    "import numpy as np\n",
    "arr = np.random.randint(0,10,size=100000)\n",
    "print(\"原数据；\", arr[:10])\n",
    "result = []\n",
    "for i in arr:\n",
    "    result.append(i**3)\n",
    "print(\"for循环求三次幂结果：\", result[:10])"
   ]
  },
  {
   "cell_type": "markdown",
   "id": "ef67a60d",
   "metadata": {},
   "source": [
    "## 作业5\n",
    "创建一个5行3列随机矩阵和一个3行2列随机矩阵，求举证乘积"
   ]
  },
  {
   "cell_type": "code",
   "execution_count": 6,
   "id": "667b770a",
   "metadata": {},
   "outputs": [
    {
     "data": {
      "text/plain": [
       "array([[7, 8, 8],\n",
       "       [6, 7, 3],\n",
       "       [5, 2, 8],\n",
       "       [9, 4, 3],\n",
       "       [0, 6, 6]])"
      ]
     },
     "metadata": {},
     "output_type": "display_data"
    },
    {
     "data": {
      "text/plain": [
       "array([[8, 1],\n",
       "       [0, 9],\n",
       "       [9, 0]])"
      ]
     },
     "metadata": {},
     "output_type": "display_data"
    },
    {
     "name": "stdout",
     "output_type": "stream",
     "text": [
      "方法一：\n",
      " [[128  79]\n",
      " [ 75  69]\n",
      " [112  23]\n",
      " [ 99  45]\n",
      " [ 54  54]]\n",
      "方法二：\n",
      " [[128  79]\n",
      " [ 75  69]\n",
      " [112  23]\n",
      " [ 99  45]\n",
      " [ 54  54]]\n",
      "方法三：\n",
      " [[128  79]\n",
      " [ 75  69]\n",
      " [112  23]\n",
      " [ 99  45]\n",
      " [ 54  54]]\n"
     ]
    }
   ],
   "source": [
    "import numpy as np\n",
    "A = np.random.randint(0,10,size=(5,3))\n",
    "B = np.random.randint(0,10,size=(3,2))\n",
    "display(A,B)\n",
    "\n",
    "\n",
    "print(\"方法一：\\n\", np.dot(A,B))\n",
    "print(\"方法二：\\n\", A.dot(B))\n",
    "print(\"方法三：\\n\", A @ B)"
   ]
  },
  {
   "cell_type": "markdown",
   "id": "e0a7158a",
   "metadata": {},
   "source": [
    "## 作业6\n",
    "矩阵的每一行的元素都减去该行的平均值（注意，平均值计算式制定axis，以及减法操作时形状改变）"
   ]
  },
  {
   "cell_type": "code",
   "execution_count": 7,
   "id": "2bcc88cf",
   "metadata": {},
   "outputs": [
    {
     "data": {
      "text/plain": [
       "array([[7, 1, 2, 6, 9],\n",
       "       [5, 4, 1, 0, 1],\n",
       "       [2, 7, 0, 4, 5]])"
      ]
     },
     "metadata": {},
     "output_type": "display_data"
    },
    {
     "name": "stdout",
     "output_type": "stream",
     "text": [
      "计算每一行平均值：\n"
     ]
    },
    {
     "data": {
      "text/plain": [
       "array([5. , 2.2, 3.6])"
      ]
     },
     "metadata": {},
     "output_type": "display_data"
    },
    {
     "data": {
      "text/plain": [
       "array([[5. ],\n",
       "       [2.2],\n",
       "       [3.6]])"
      ]
     },
     "metadata": {},
     "output_type": "display_data"
    },
    {
     "data": {
      "text/plain": [
       "array([[ 2. , -4. , -3. ,  1. ,  4. ],\n",
       "       [ 2.8,  1.8, -1.2, -2.2, -1.2],\n",
       "       [-1.6,  3.4, -3.6,  0.4,  1.4]])"
      ]
     },
     "execution_count": 7,
     "metadata": {},
     "output_type": "execute_result"
    }
   ],
   "source": [
    "X = np.random.randint(0,10,size=(3,5))\n",
    "display(X)\n",
    "\n",
    "print(\"计算每一行平均值：\")\n",
    "display(X.mean(axis = 1)) # 1行3列\n",
    "display(X.mean(axis = 1).reshape(-1,1))  # 变成3行1列\n",
    "X - X.mean(axis = 1).reshape(-1,1) "
   ]
  },
  {
   "cell_type": "markdown",
   "id": "a8e1d771",
   "metadata": {},
   "source": [
    "## 作业7\n",
    "打印出以下二维数组（要求使用np.zeros创建8*8的矩阵）\n",
    "```\n",
    "[[0 1 0 1 0 1 0 1]\n",
    " [1 0 1 0 1 0 1 0]\n",
    " [0 1 0 1 0 1 0 1]\n",
    " [1 0 1 0 1 0 1 0]\n",
    " [0 1 0 1 0 1 0 1]\n",
    " [1 0 1 0 1 0 1 0]\n",
    " [0 1 0 1 0 1 0 1]\n",
    " [1 0 1 0 1 0 1 0]]\n",
    "```"
   ]
  },
  {
   "cell_type": "code",
   "execution_count": 8,
   "id": "8b3cd93d",
   "metadata": {},
   "outputs": [
    {
     "name": "stdout",
     "output_type": "stream",
     "text": [
      "原数据：\n"
     ]
    },
    {
     "data": {
      "text/plain": [
       "array([[0, 0, 0, 0, 0, 0, 0, 0],\n",
       "       [0, 0, 0, 0, 0, 0, 0, 0],\n",
       "       [0, 0, 0, 0, 0, 0, 0, 0],\n",
       "       [0, 0, 0, 0, 0, 0, 0, 0],\n",
       "       [0, 0, 0, 0, 0, 0, 0, 0],\n",
       "       [0, 0, 0, 0, 0, 0, 0, 0],\n",
       "       [0, 0, 0, 0, 0, 0, 0, 0],\n",
       "       [0, 0, 0, 0, 0, 0, 0, 0]], dtype=int16)"
      ]
     },
     "metadata": {},
     "output_type": "display_data"
    },
    {
     "name": "stdout",
     "output_type": "stream",
     "text": [
      "修改后的数据是：\n"
     ]
    },
    {
     "data": {
      "text/plain": [
       "array([[0, 1, 0, 1, 0, 1, 0, 1],\n",
       "       [1, 0, 1, 0, 1, 0, 1, 0],\n",
       "       [0, 1, 0, 1, 0, 1, 0, 1],\n",
       "       [1, 0, 1, 0, 1, 0, 1, 0],\n",
       "       [0, 1, 0, 1, 0, 1, 0, 1],\n",
       "       [1, 0, 1, 0, 1, 0, 1, 0],\n",
       "       [0, 1, 0, 1, 0, 1, 0, 1],\n",
       "       [1, 0, 1, 0, 1, 0, 1, 0]], dtype=int16)"
      ]
     },
     "execution_count": 8,
     "metadata": {},
     "output_type": "execute_result"
    }
   ],
   "source": [
    "import numpy as np\n",
    "arr = np.zeros(shape = (8,8),dtype=np.int16)\n",
    "\n",
    "print('原数据：')\n",
    "display(arr)\n",
    "\n",
    "# 将奇数行的偶数列，进行修改\n",
    "arr[::2,1::2] = 1\n",
    "\n",
    "# 将偶数行的奇数列，进行修改\n",
    "arr[1::2,::2] = 1\n",
    "print('修改后的数据是：')\n",
    "arr"
   ]
  },
  {
   "cell_type": "markdown",
   "id": "754d4bf6",
   "metadata": {},
   "source": [
    "## 作业8\n",
    "正则化一个5行5列的随机矩阵（数据统一变成0~1之间的数字，相当于进行缩小）\n",
    "正则的概念：矩阵A中的每一列减去这一列最小值，除以每一列的最大值减去每一列的最小值（提示：轴axis给合适的参数！！！）\n",
    "\t\t\t\n",
    "$$\n",
    " \\rm{ A = \\frac{A - A.min}{A.max - A.min}}\n",
    "$$"
   ]
  },
  {
   "cell_type": "code",
   "execution_count": 10,
   "id": "c0d5c2ca",
   "metadata": {},
   "outputs": [
    {
     "name": "stdout",
     "output_type": "stream",
     "text": [
      "原数据为：\n"
     ]
    },
    {
     "data": {
      "text/plain": [
       "array([[7, 9, 2, 6, 4],\n",
       "       [3, 8, 7, 8, 2],\n",
       "       [4, 4, 9, 7, 8],\n",
       "       [3, 9, 6, 6, 1],\n",
       "       [3, 2, 1, 9, 4]])"
      ]
     },
     "metadata": {},
     "output_type": "display_data"
    },
    {
     "name": "stdout",
     "output_type": "stream",
     "text": [
      "正则化后：\n"
     ]
    },
    {
     "data": {
      "text/plain": [
       "array([[1.        , 1.        , 0.125     , 0.        , 0.42857143],\n",
       "       [0.        , 0.85714286, 0.75      , 0.66666667, 0.14285714],\n",
       "       [0.25      , 0.28571429, 1.        , 0.33333333, 1.        ],\n",
       "       [0.        , 1.        , 0.625     , 0.        , 0.        ],\n",
       "       [0.        , 0.        , 0.        , 1.        , 0.42857143]])"
      ]
     },
     "execution_count": 10,
     "metadata": {},
     "output_type": "execute_result"
    }
   ],
   "source": [
    "import numpy as np\n",
    "A = np.random.randint(1,10,size = (5,5))\n",
    "\n",
    "print('原数据为：')\n",
    "display(A)\n",
    "\n",
    "# 根据公式进行计算，注意axis，要正确指定\n",
    "B = (A - A.min(axis = 0))/(A.max(axis = 0) - A.min(axis = 0))\n",
    "print('正则化后：')\n",
    "B"
   ]
  },
  {
   "cell_type": "markdown",
   "id": "2ddfefec",
   "metadata": {},
   "source": [
    "## 作业9\n",
    "如何根据两个或多个条件过滤numpy数组。加载鸢尾花数据，根据第一列小于5.0并且第三列大于1.5作为条件，进行数据筛选。（提示，需要使用逻辑与运算：&）"
   ]
  },
  {
   "cell_type": "code",
   "execution_count": 17,
   "id": "b44974b5",
   "metadata": {},
   "outputs": [
    {
     "name": "stdout",
     "output_type": "stream",
     "text": [
      "(150, 4)\n"
     ]
    },
    {
     "data": {
      "text/plain": [
       "array([[4.8, 3.4, 1.6, 0.2],\n",
       "       [4.8, 3.4, 1.9, 0.2],\n",
       "       [4.7, 3.2, 1.6, 0.2],\n",
       "       [4.8, 3.1, 1.6, 0.2],\n",
       "       [4.9, 2.4, 3.3, 1. ],\n",
       "       [4.9, 2.5, 4.5, 1.7]])"
      ]
     },
     "execution_count": 17,
     "metadata": {},
     "output_type": "execute_result"
    }
   ],
   "source": [
    "import numpy as np\n",
    "\n",
    "# 加载了文本文件，储存数据都是结构化的数据\n",
    "# 鸢尾花数据：花萼长度、花萼宽度、花瓣长度、花瓣宽度\n",
    "iris = np.loadtxt('./iris.csv',delimiter = ',')\n",
    "print(iris.shape)\n",
    "\n",
    "cond1 = iris[:,0] < 5  # 第一列小于5.0\n",
    "cond2 = iris[:,2] > 1.5  # 第三列大于1.5\n",
    "cond = cond1 & cond2  # 合并条件\n",
    "\n",
    "# 获取数据\n",
    "iris[cond]"
   ]
  },
  {
   "cell_type": "markdown",
   "id": "7a86a122",
   "metadata": {},
   "source": [
    "## 作业10\n",
    "计算鸢尾花数据每一行的softmax得分（exp表示自然底数e的幂运算）\n",
    "![](./softmax.png)"
   ]
  },
  {
   "cell_type": "code",
   "execution_count": 19,
   "id": "1220a949",
   "metadata": {},
   "outputs": [
    {
     "data": {
      "text/plain": [
       "7.38905609893065"
      ]
     },
     "execution_count": 19,
     "metadata": {},
     "output_type": "execute_result"
    }
   ],
   "source": [
    "np.exp(2)  # exp：以e为底数的幂运算"
   ]
  },
  {
   "cell_type": "code",
   "execution_count": 21,
   "id": "3fa13289",
   "metadata": {},
   "outputs": [
    {
     "data": {
      "text/plain": [
       "7.3890560989306495"
      ]
     },
     "execution_count": 21,
     "metadata": {},
     "output_type": "execute_result"
    }
   ],
   "source": [
    "np.e**2"
   ]
  },
  {
   "cell_type": "code",
   "execution_count": 22,
   "id": "89bbc8e5",
   "metadata": {},
   "outputs": [
    {
     "data": {
      "text/plain": [
       "array([2. , 1. , 0.1])"
      ]
     },
     "execution_count": 22,
     "metadata": {},
     "output_type": "execute_result"
    }
   ],
   "source": [
    "arr = np.array([2,1,0.1])\n",
    "arr"
   ]
  },
  {
   "cell_type": "code",
   "execution_count": 24,
   "id": "19326b56",
   "metadata": {},
   "outputs": [
    {
     "data": {
      "text/plain": [
       "array([7.3890561 , 2.71828183, 1.10517092])"
      ]
     },
     "execution_count": 24,
     "metadata": {},
     "output_type": "execute_result"
    }
   ],
   "source": [
    "exp = np.exp(arr)\n",
    "exp"
   ]
  },
  {
   "cell_type": "code",
   "execution_count": 27,
   "id": "470fa062",
   "metadata": {},
   "outputs": [
    {
     "name": "stdout",
     "output_type": "stream",
     "text": [
      "[0.65900114 0.24243297 0.09856589]\n",
      "[0.7 0.2 0.1]\n"
     ]
    }
   ],
   "source": [
    "print((exp/exp.sum()))\n",
    "print((exp/exp.sum()).round(1))"
   ]
  },
  {
   "cell_type": "code",
   "execution_count": 44,
   "id": "3325a95e",
   "metadata": {},
   "outputs": [
    {
     "name": "stdout",
     "output_type": "stream",
     "text": [
      "未计算之前：\n",
      " [[5.1 3.5 1.4 0.2]\n",
      " [4.9 3.  1.4 0.2]\n",
      " [4.7 3.2 1.3 0.2]\n",
      " [4.6 3.1 1.5 0.2]\n",
      " [5.  3.6 1.4 0.2]]\n",
      "softmax得分：\n",
      " [[0.81  0.164 0.02  0.006]\n",
      " [0.841 0.126 0.025 0.008]\n",
      " [0.789 0.176 0.026 0.009]\n",
      " [0.781 0.174 0.035 0.01 ]\n",
      " [0.78  0.192 0.021 0.006]]\n"
     ]
    }
   ],
   "source": [
    "import numpy as np\n",
    "\n",
    "iris = np.loadtxt('./iris.csv',delimiter = ',')\n",
    "\n",
    "print('未计算之前：\\n', iris[:5])\n",
    "\n",
    "def softmax(x):\n",
    "    exp = np.exp(x)\n",
    "    # 每一行求和，并且进行形状改变（变成二维，可以进行广播）\n",
    "    result = exp/exp.sum(axis = 1).reshape(-1,1)\n",
    "    return result.round(3) # 保留3位小数\n",
    "\n",
    "result = softmax(iris)\n",
    "print('softmax得分：\\n',result[:5])"
   ]
  },
  {
   "cell_type": "code",
   "execution_count": 45,
   "id": "b9bf70c4",
   "metadata": {},
   "outputs": [
    {
     "data": {
      "text/plain": [
       "array([1.   , 1.   , 1.   , 1.   , 0.999, 1.   , 1.   , 1.   , 1.   ,\n",
       "       1.001, 1.001, 1.   , 1.001, 1.   , 1.   , 1.001, 0.999, 1.   ,\n",
       "       1.001, 0.999, 1.   , 0.999, 0.999, 1.   , 1.   , 1.   , 1.   ,\n",
       "       1.   , 1.   , 1.   , 1.   , 0.999, 0.999, 1.001, 1.001, 1.   ,\n",
       "       1.   , 1.   , 0.999, 0.999, 1.001, 1.   , 1.   , 1.   , 1.   ,\n",
       "       1.001, 1.   , 0.999, 1.   , 1.   , 1.   , 1.   , 0.999, 1.   ,\n",
       "       1.001, 1.   , 0.999, 1.001, 0.999, 1.   , 1.   , 1.   , 1.   ,\n",
       "       0.999, 0.999, 1.   , 1.   , 1.   , 1.   , 0.999, 1.   , 1.   ,\n",
       "       1.   , 1.001, 1.   , 1.   , 1.   , 1.   , 1.   , 1.   , 0.999,\n",
       "       1.   , 0.999, 0.999, 1.   , 1.   , 1.   , 1.   , 1.   , 1.   ,\n",
       "       1.001, 1.   , 1.   , 1.   , 0.999, 1.   , 0.999, 1.   , 1.   ,\n",
       "       1.   , 1.   , 1.   , 1.   , 1.   , 1.   , 1.   , 1.   , 1.   ,\n",
       "       1.   , 1.   , 0.999, 1.   , 1.   , 1.   , 1.   , 0.999, 0.999,\n",
       "       1.   , 1.   , 1.001, 1.001, 0.999, 0.999, 1.   , 1.001, 0.999,\n",
       "       1.001, 0.999, 1.   , 1.   , 1.   , 1.   , 0.999, 1.   , 1.001,\n",
       "       1.   , 1.   , 1.   , 0.999, 1.001, 1.   , 1.   , 1.   , 1.   ,\n",
       "       1.001, 1.001, 0.999, 0.999, 1.   , 0.999])"
      ]
     },
     "execution_count": 45,
     "metadata": {},
     "output_type": "execute_result"
    }
   ],
   "source": [
    "# 对鸢尾花每一行的 softmax 结果，每一行的和都是 1\n",
    "# 有的行的求和结果有小数位，是因上面的结果保留了3位小时，计算机浮点数有误差\n",
    "result.sum(axis = 1)"
   ]
  }
 ],
 "metadata": {
  "kernelspec": {
   "display_name": "Python 3 (ipykernel)",
   "language": "python",
   "name": "python3"
  },
  "language_info": {
   "codemirror_mode": {
    "name": "ipython",
    "version": 3
   },
   "file_extension": ".py",
   "mimetype": "text/x-python",
   "name": "python",
   "nbconvert_exporter": "python",
   "pygments_lexer": "ipython3",
   "version": "3.8.16"
  },
  "toc": {
   "base_numbering": 1,
   "nav_menu": {},
   "number_sections": true,
   "sideBar": true,
   "skip_h1_title": false,
   "title_cell": "Table of Contents",
   "title_sidebar": "Contents",
   "toc_cell": false,
   "toc_position": {
    "height": "calc(100% - 180px)",
    "left": "10px",
    "top": "150px",
    "width": "165px"
   },
   "toc_section_display": true,
   "toc_window_display": true
  }
 },
 "nbformat": 4,
 "nbformat_minor": 5
}
