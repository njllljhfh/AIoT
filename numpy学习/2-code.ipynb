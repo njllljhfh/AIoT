{
 "cells": [
  {
   "cell_type": "markdown",
   "id": "1ffafa06",
   "metadata": {},
   "source": [
    "## 索引切片"
   ]
  },
  {
   "cell_type": "code",
   "execution_count": 3,
   "id": "f89d738e",
   "metadata": {},
   "outputs": [
    {
     "data": {
      "text/plain": [
       "array([[ 6, -2,  4,  9,  2,  8],\n",
       "       [ 3, -3, 13, -3,  8, 12],\n",
       "       [ 5, 12, 11,  9, 13, -5],\n",
       "       [10, -5,  8, 13, 14,  7],\n",
       "       [14, -4,  6, 12, -3,  4]])"
      ]
     },
     "execution_count": 3,
     "metadata": {},
     "output_type": "execute_result"
    }
   ],
   "source": [
    "import numpy as np\n",
    "\n",
    "nd2 = np.random.randint(-5,15,size=(5,6))\n",
    "\n",
    "nd2"
   ]
  },
  {
   "cell_type": "code",
   "execution_count": 7,
   "id": "79d7cf81",
   "metadata": {},
   "outputs": [
    {
     "data": {
      "text/plain": [
       "array([[ 3, -3, 13, -3,  8, 12],\n",
       "       [10, -5,  8, 13, 14,  7]])"
      ]
     },
     "execution_count": 7,
     "metadata": {},
     "output_type": "execute_result"
    }
   ],
   "source": [
    "nd2[[1,3]]"
   ]
  },
  {
   "cell_type": "code",
   "execution_count": 9,
   "id": "1c09bd0d",
   "metadata": {},
   "outputs": [
    {
     "data": {
      "text/plain": [
       "array([[-2,  9,  8],\n",
       "       [-3, -3, 12],\n",
       "       [12,  9, -5],\n",
       "       [-5, 13,  7],\n",
       "       [-4, 12,  4]])"
      ]
     },
     "execution_count": 9,
     "metadata": {},
     "output_type": "execute_result"
    }
   ],
   "source": [
    "nd2[:,[1,3,5]]"
   ]
  },
  {
   "cell_type": "code",
   "execution_count": 11,
   "id": "2ab646db",
   "metadata": {},
   "outputs": [
    {
     "ename": "IndexError",
     "evalue": "shape mismatch: indexing arrays could not be broadcast together with shapes (2,) (3,) ",
     "output_type": "error",
     "traceback": [
      "\u001b[1;31m---------------------------------------------------------------------------\u001b[0m",
      "\u001b[1;31mIndexError\u001b[0m                                Traceback (most recent call last)",
      "Cell \u001b[1;32mIn[11], line 1\u001b[0m\n\u001b[1;32m----> 1\u001b[0m \u001b[43mnd2\u001b[49m\u001b[43m[\u001b[49m\u001b[43m[\u001b[49m\u001b[38;5;241;43m1\u001b[39;49m\u001b[43m,\u001b[49m\u001b[38;5;241;43m3\u001b[39;49m\u001b[43m]\u001b[49m\u001b[43m,\u001b[49m\u001b[43m \u001b[49m\u001b[43m[\u001b[49m\u001b[38;5;241;43m1\u001b[39;49m\u001b[43m,\u001b[49m\u001b[38;5;241;43m3\u001b[39;49m\u001b[43m,\u001b[49m\u001b[38;5;241;43m5\u001b[39;49m\u001b[43m]\u001b[49m\u001b[43m]\u001b[49m\n",
      "\u001b[1;31mIndexError\u001b[0m: shape mismatch: indexing arrays could not be broadcast together with shapes (2,) (3,) "
     ]
    }
   ],
   "source": [
    "nd2[[1,3], [1,3,5]]  # 会报错"
   ]
  },
  {
   "cell_type": "code",
   "execution_count": 14,
   "id": "f33aa9c3",
   "metadata": {},
   "outputs": [
    {
     "data": {
      "text/plain": [
       "array([-3,  4])"
      ]
     },
     "execution_count": 14,
     "metadata": {},
     "output_type": "execute_result"
    }
   ],
   "source": [
    "nd2[[1,4], [3,5]]  # 获取1行3列数据 和 4行5列数据"
   ]
  },
  {
   "cell_type": "markdown",
   "id": "f7cf426b",
   "metadata": {},
   "source": [
    "### 方式1"
   ]
  },
  {
   "cell_type": "code",
   "execution_count": 15,
   "id": "e658509f",
   "metadata": {},
   "outputs": [
    {
     "data": {
      "text/plain": [
       "array([[-3, -3, 12],\n",
       "       [-5, 13,  7]])"
      ]
     },
     "execution_count": 15,
     "metadata": {},
     "output_type": "execute_result"
    }
   ],
   "source": [
    "nd2[[1,3]][:,[1,3,5]]  # 获取第1、3行 的 第 1、3、5列数据"
   ]
  },
  {
   "cell_type": "markdown",
   "id": "31d95de0",
   "metadata": {},
   "source": [
    "### 方式2"
   ]
  },
  {
   "cell_type": "code",
   "execution_count": 17,
   "id": "7d44b513",
   "metadata": {},
   "outputs": [
    {
     "data": {
      "text/plain": [
       "(array([[1],\n",
       "        [3]]),\n",
       " array([[1, 3, 5]]))"
      ]
     },
     "execution_count": 17,
     "metadata": {},
     "output_type": "execute_result"
    }
   ],
   "source": [
    "np.ix_([1,3],[1,3,5])"
   ]
  },
  {
   "cell_type": "code",
   "execution_count": 20,
   "id": "ec5198e4",
   "metadata": {},
   "outputs": [
    {
     "data": {
      "text/plain": [
       "array([[-3, -3, 12],\n",
       "       [-5, 13,  7]])"
      ]
     },
     "execution_count": 20,
     "metadata": {},
     "output_type": "execute_result"
    }
   ],
   "source": [
    "# 获取第1、3行 的 第 1、3、5列数据\n",
    "index = np.ix_([1,3],[1,3,5])\n",
    "nd2[index]  # 相当于 nd2[[1,3]][:,[1,3,5]] "
   ]
  },
  {
   "cell_type": "markdown",
   "id": "8beb473d",
   "metadata": {},
   "source": [
    "## 形状改变"
   ]
  },
  {
   "cell_type": "markdown",
   "id": "bd5fe09a",
   "metadata": {},
   "source": [
    "### reshape"
   ]
  },
  {
   "cell_type": "code",
   "execution_count": 30,
   "id": "0e259425",
   "metadata": {},
   "outputs": [
    {
     "data": {
      "text/plain": [
       "array([[27, 84, 36, 19],\n",
       "       [76, 53, 20,  5],\n",
       "       [94, 79, 81, 47]])"
      ]
     },
     "metadata": {},
     "output_type": "display_data"
    },
    {
     "data": {
      "text/plain": [
       "array([[27, 84, 36],\n",
       "       [19, 76, 53],\n",
       "       [20,  5, 94],\n",
       "       [79, 81, 47]])"
      ]
     },
     "metadata": {},
     "output_type": "display_data"
    },
    {
     "name": "stdout",
     "output_type": "stream",
     "text": [
      "2行6列：\n"
     ]
    },
    {
     "data": {
      "text/plain": [
       "array([[27, 84, 36, 19, 76, 53],\n",
       "       [20,  5, 94, 79, 81, 47]])"
      ]
     },
     "metadata": {},
     "output_type": "display_data"
    },
    {
     "data": {
      "text/plain": [
       "array([[27, 84, 36, 19, 76, 53],\n",
       "       [20,  5, 94, 79, 81, 47]])"
      ]
     },
     "metadata": {},
     "output_type": "display_data"
    },
    {
     "data": {
      "text/plain": [
       "array([27, 84, 36, 19, 76, 53, 20,  5, 94, 79, 81, 47])"
      ]
     },
     "metadata": {},
     "output_type": "display_data"
    }
   ],
   "source": [
    "nd2 = np.random.randint(0,100,size=(3,4))\n",
    "display(nd2)\n",
    "\n",
    "# 数据重塑reshape\n",
    "display(nd2.reshape(4,3))  # 一行一行数\n",
    "\n",
    "print(\"2行6列：\")\n",
    "display(nd2.reshape(2,6))\n",
    "# -1表示最后计算，相当于 x * 6 = 3 * 4  ----> x = 2\n",
    "display(nd2.reshape(-1,6))\n",
    "\n",
    "display(nd2.reshape(-1))"
   ]
  },
  {
   "cell_type": "code",
   "execution_count": 32,
   "id": "fff23fc4",
   "metadata": {},
   "outputs": [
    {
     "ename": "ValueError",
     "evalue": "cannot reshape array of size 12 into shape (3,5)",
     "output_type": "error",
     "traceback": [
      "\u001b[1;31m---------------------------------------------------------------------------\u001b[0m",
      "\u001b[1;31mValueError\u001b[0m                                Traceback (most recent call last)",
      "Cell \u001b[1;32mIn[32], line 2\u001b[0m\n\u001b[0;32m      1\u001b[0m \u001b[38;5;66;03m# 下面代码会报错，因为 3*5 不等于 3*4，所以无法转换\u001b[39;00m\n\u001b[1;32m----> 2\u001b[0m \u001b[43mnd2\u001b[49m\u001b[38;5;241;43m.\u001b[39;49m\u001b[43mreshape\u001b[49m\u001b[43m(\u001b[49m\u001b[38;5;241;43m3\u001b[39;49m\u001b[43m,\u001b[49m\u001b[38;5;241;43m5\u001b[39;49m\u001b[43m)\u001b[49m\n",
      "\u001b[1;31mValueError\u001b[0m: cannot reshape array of size 12 into shape (3,5)"
     ]
    }
   ],
   "source": [
    "# 下面代码会报错，因为 3*5 不等于 3*4，所以无法转换\n",
    "nd2.reshape(3,5)"
   ]
  },
  {
   "cell_type": "markdown",
   "id": "c201b15a",
   "metadata": {},
   "source": [
    "### 叠加"
   ]
  },
  {
   "cell_type": "code",
   "execution_count": 36,
   "id": "e00bd441",
   "metadata": {},
   "outputs": [
    {
     "data": {
      "text/plain": [
       "array([[8, 3, 6, 6],\n",
       "       [1, 4, 5, 3]])"
      ]
     },
     "metadata": {},
     "output_type": "display_data"
    },
    {
     "data": {
      "text/plain": [
       "array([[ 4,  0, -2, -2],\n",
       "       [ 2,  2,  0, -4],\n",
       "       [ 4, -1, -2, -1]])"
      ]
     },
     "metadata": {},
     "output_type": "display_data"
    },
    {
     "data": {
      "text/plain": [
       "array([[ 8,  3,  6,  6],\n",
       "       [ 1,  4,  5,  3],\n",
       "       [ 4,  0, -2, -2],\n",
       "       [ 2,  2,  0, -4],\n",
       "       [ 4, -1, -2, -1]])"
      ]
     },
     "execution_count": 36,
     "metadata": {},
     "output_type": "execute_result"
    }
   ],
   "source": [
    "arr1 = np.random.randint(0,10,size = (2,4))\n",
    "\n",
    "arr2 = np.random.randint(-5,5,size = (3,4))\n",
    "\n",
    "display(arr1, arr2)\n",
    "\n",
    "# 合并，默认进行行合并，行变多\n",
    "np.concatenate([arr1,arr2])"
   ]
  },
  {
   "cell_type": "code",
   "execution_count": 44,
   "id": "eeafbb41",
   "metadata": {},
   "outputs": [
    {
     "data": {
      "text/plain": [
       "array([[1, 6, 6, 8, 6],\n",
       "       [2, 7, 5, 6, 7],\n",
       "       [3, 9, 3, 2, 7]])"
      ]
     },
     "metadata": {},
     "output_type": "display_data"
    },
    {
     "data": {
      "text/plain": [
       "array([[-2, -5,  4,  0],\n",
       "       [-2,  1,  3, -4],\n",
       "       [ 1,  0,  4, -5]])"
      ]
     },
     "metadata": {},
     "output_type": "display_data"
    },
    {
     "data": {
      "text/plain": [
       "array([[ 1,  6,  6,  8,  6, -2, -5,  4,  0],\n",
       "       [ 2,  7,  5,  6,  7, -2,  1,  3, -4],\n",
       "       [ 3,  9,  3,  2,  7,  1,  0,  4, -5]])"
      ]
     },
     "execution_count": 44,
     "metadata": {},
     "output_type": "execute_result"
    }
   ],
   "source": [
    "arr1 = np.random.randint(0,10,size = (3,5))\n",
    "\n",
    "arr2 = np.random.randint(-5,5,size = (3,4))\n",
    "\n",
    "display(arr1, arr2)\n",
    "\n",
    "# 合并\n",
    "# axis = 0 默认值，代表行\n",
    "# axis = 1 代表列\n",
    "np.concatenate([arr1,arr2],axis = 1)"
   ]
  },
  {
   "cell_type": "markdown",
   "id": "28c7f21b",
   "metadata": {},
   "source": [
    "### 拆分"
   ]
  },
  {
   "cell_type": "code",
   "execution_count": 55,
   "id": "1885b1c3",
   "metadata": {},
   "outputs": [
    {
     "data": {
      "text/plain": [
       "array([[ 9, 12, 35, 71, 42, 86, 61, 21, 29],\n",
       "       [64, 33, 91, 41, 62, 11, 40, 87, 40],\n",
       "       [48,  9, 97, 84, 29, 55, 28, 70, 19],\n",
       "       [79, 92, 11, 62, 51, 39, 96, 26, 65],\n",
       "       [58, 57, 36, 33, 56, 43, 86, 71, 72],\n",
       "       [64, 82,  6,  3,  0, 12, 23, 52, 41]])"
      ]
     },
     "metadata": {},
     "output_type": "display_data"
    },
    {
     "name": "stdout",
     "output_type": "stream",
     "text": [
      "行拆分:\n"
     ]
    },
    {
     "data": {
      "text/plain": [
       "[array([[ 9, 12, 35, 71, 42, 86, 61, 21, 29],\n",
       "        [64, 33, 91, 41, 62, 11, 40, 87, 40],\n",
       "        [48,  9, 97, 84, 29, 55, 28, 70, 19]]),\n",
       " array([[79, 92, 11, 62, 51, 39, 96, 26, 65],\n",
       "        [58, 57, 36, 33, 56, 43, 86, 71, 72],\n",
       "        [64, 82,  6,  3,  0, 12, 23, 52, 41]])]"
      ]
     },
     "metadata": {},
     "output_type": "display_data"
    },
    {
     "data": {
      "text/plain": [
       "[array([[ 9, 12, 35, 71, 42, 86, 61, 21, 29]]),\n",
       " array([[64, 33, 91, 41, 62, 11, 40, 87, 40],\n",
       "        [48,  9, 97, 84, 29, 55, 28, 70, 19],\n",
       "        [79, 92, 11, 62, 51, 39, 96, 26, 65]]),\n",
       " array([[58, 57, 36, 33, 56, 43, 86, 71, 72]]),\n",
       " array([[64, 82,  6,  3,  0, 12, 23, 52, 41]])]"
      ]
     },
     "metadata": {},
     "output_type": "display_data"
    },
    {
     "name": "stdout",
     "output_type": "stream",
     "text": [
      "列拆分:\n"
     ]
    },
    {
     "data": {
      "text/plain": [
       "[array([[ 9],\n",
       "        [64],\n",
       "        [48],\n",
       "        [79],\n",
       "        [58],\n",
       "        [64]]),\n",
       " array([[12, 35, 71],\n",
       "        [33, 91, 41],\n",
       "        [ 9, 97, 84],\n",
       "        [92, 11, 62],\n",
       "        [57, 36, 33],\n",
       "        [82,  6,  3]]),\n",
       " array([[42],\n",
       "        [62],\n",
       "        [29],\n",
       "        [51],\n",
       "        [56],\n",
       "        [ 0]]),\n",
       " array([[86, 61, 21, 29],\n",
       "        [11, 40, 87, 40],\n",
       "        [55, 28, 70, 19],\n",
       "        [39, 96, 26, 65],\n",
       "        [43, 86, 71, 72],\n",
       "        [12, 23, 52, 41]])]"
      ]
     },
     "metadata": {},
     "output_type": "display_data"
    }
   ],
   "source": [
    "nd = np.random.randint(0,100,size=(6,9))\n",
    "display(nd)\n",
    "\n",
    "print(\"行拆分:\")\n",
    "# 给一个数字表示，平均分成多少份\n",
    "display(np.split(nd, 2))\n",
    "\n",
    "# 给一个列表，表示，从列表中的索引处进行拆分\n",
    "display(np.split(nd,[1,4,5],axis=0))\n",
    "\n",
    "print(\"列拆分:\")\n",
    "display(np.split(nd,[1,4,5],axis=1))"
   ]
  },
  {
   "cell_type": "markdown",
   "id": "6675270c",
   "metadata": {},
   "source": [
    "### 数组转置"
   ]
  },
  {
   "cell_type": "code",
   "execution_count": 62,
   "id": "4d3235ea",
   "metadata": {},
   "outputs": [
    {
     "name": "stdout",
     "output_type": "stream",
     "text": [
      "原数据\n"
     ]
    },
    {
     "data": {
      "text/plain": [
       "array([[0, 4, 5, 5, 0],\n",
       "       [9, 9, 7, 3, 2],\n",
       "       [4, 4, 2, 5, 3]])"
      ]
     },
     "metadata": {},
     "output_type": "display_data"
    },
    {
     "name": "stdout",
     "output_type": "stream",
     "text": [
      "reshape:\n"
     ]
    },
    {
     "data": {
      "text/plain": [
       "array([[0, 4, 5],\n",
       "       [5, 0, 9],\n",
       "       [9, 7, 3],\n",
       "       [2, 4, 4],\n",
       "       [2, 5, 3]])"
      ]
     },
     "metadata": {},
     "output_type": "display_data"
    },
    {
     "name": "stdout",
     "output_type": "stream",
     "text": [
      "转置,行变列，列变行：\n"
     ]
    },
    {
     "data": {
      "text/plain": [
       "array([[0, 9, 4],\n",
       "       [4, 9, 4],\n",
       "       [5, 7, 2],\n",
       "       [5, 3, 5],\n",
       "       [0, 2, 3]])"
      ]
     },
     "metadata": {},
     "output_type": "display_data"
    }
   ],
   "source": [
    "A = np.random.randint(0,10,size=(3,5))\n",
    "\n",
    "print(\"原数据\")\n",
    "display(A)\n",
    "\n",
    "print(\"reshape:\")\n",
    "display(A.reshape(5,3))\n",
    "\n",
    "print(\"转置,行变列，列变行：\")\n",
    "display(A.T)"
   ]
  },
  {
   "cell_type": "code",
   "execution_count": 68,
   "id": "2d5100ee",
   "metadata": {},
   "outputs": [
    {
     "data": {
      "text/plain": [
       "array([[0, 9, 4],\n",
       "       [4, 9, 4],\n",
       "       [5, 7, 2],\n",
       "       [5, 3, 5],\n",
       "       [0, 2, 3]])"
      ]
     },
     "execution_count": 68,
     "metadata": {},
     "output_type": "execute_result"
    }
   ],
   "source": [
    "np.transpose(A,axes=[1,0])"
   ]
  }
 ],
 "metadata": {
  "kernelspec": {
   "display_name": "Python 3 (ipykernel)",
   "language": "python",
   "name": "python3"
  },
  "language_info": {
   "codemirror_mode": {
    "name": "ipython",
    "version": 3
   },
   "file_extension": ".py",
   "mimetype": "text/x-python",
   "name": "python",
   "nbconvert_exporter": "python",
   "pygments_lexer": "ipython3",
   "version": "3.8.16"
  },
  "toc": {
   "base_numbering": 1,
   "nav_menu": {},
   "number_sections": true,
   "sideBar": true,
   "skip_h1_title": false,
   "title_cell": "Table of Contents",
   "title_sidebar": "Contents",
   "toc_cell": false,
   "toc_position": {
    "height": "calc(100% - 180px)",
    "left": "10px",
    "top": "150px",
    "width": "238.4px"
   },
   "toc_section_display": true,
   "toc_window_display": true
  }
 },
 "nbformat": 4,
 "nbformat_minor": 5
}
