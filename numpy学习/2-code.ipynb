{
 "cells": [
  {
   "cell_type": "markdown",
   "id": "611de238",
   "metadata": {},
   "source": [
    "## 索引切片"
   ]
  },
  {
   "cell_type": "code",
   "execution_count": 3,
   "id": "cd30eff6",
   "metadata": {},
   "outputs": [
    {
     "data": {
      "text/plain": [
       "array([[ 6, -2,  4,  9,  2,  8],\n",
       "       [ 3, -3, 13, -3,  8, 12],\n",
       "       [ 5, 12, 11,  9, 13, -5],\n",
       "       [10, -5,  8, 13, 14,  7],\n",
       "       [14, -4,  6, 12, -3,  4]])"
      ]
     },
     "execution_count": 3,
     "metadata": {},
     "output_type": "execute_result"
    }
   ],
   "source": [
    "import numpy as np\n",
    "\n",
    "nd2 = np.random.randint(-5,15,size=(5,6))\n",
    "\n",
    "nd2"
   ]
  },
  {
   "cell_type": "code",
   "execution_count": 7,
   "id": "ebd16ee9",
   "metadata": {},
   "outputs": [
    {
     "data": {
      "text/plain": [
       "array([[ 3, -3, 13, -3,  8, 12],\n",
       "       [10, -5,  8, 13, 14,  7]])"
      ]
     },
     "execution_count": 7,
     "metadata": {},
     "output_type": "execute_result"
    }
   ],
   "source": [
    "nd2[[1,3]]"
   ]
  },
  {
   "cell_type": "code",
   "execution_count": 9,
   "id": "f9327eaa",
   "metadata": {},
   "outputs": [
    {
     "data": {
      "text/plain": [
       "array([[-2,  9,  8],\n",
       "       [-3, -3, 12],\n",
       "       [12,  9, -5],\n",
       "       [-5, 13,  7],\n",
       "       [-4, 12,  4]])"
      ]
     },
     "execution_count": 9,
     "metadata": {},
     "output_type": "execute_result"
    }
   ],
   "source": [
    "nd2[:,[1,3,5]]"
   ]
  },
  {
   "cell_type": "code",
   "execution_count": 11,
   "id": "bff2ac5a",
   "metadata": {},
   "outputs": [
    {
     "ename": "IndexError",
     "evalue": "shape mismatch: indexing arrays could not be broadcast together with shapes (2,) (3,) ",
     "output_type": "error",
     "traceback": [
      "\u001b[1;31m---------------------------------------------------------------------------\u001b[0m",
      "\u001b[1;31mIndexError\u001b[0m                                Traceback (most recent call last)",
      "Cell \u001b[1;32mIn[11], line 1\u001b[0m\n\u001b[1;32m----> 1\u001b[0m \u001b[43mnd2\u001b[49m\u001b[43m[\u001b[49m\u001b[43m[\u001b[49m\u001b[38;5;241;43m1\u001b[39;49m\u001b[43m,\u001b[49m\u001b[38;5;241;43m3\u001b[39;49m\u001b[43m]\u001b[49m\u001b[43m,\u001b[49m\u001b[43m \u001b[49m\u001b[43m[\u001b[49m\u001b[38;5;241;43m1\u001b[39;49m\u001b[43m,\u001b[49m\u001b[38;5;241;43m3\u001b[39;49m\u001b[43m,\u001b[49m\u001b[38;5;241;43m5\u001b[39;49m\u001b[43m]\u001b[49m\u001b[43m]\u001b[49m\n",
      "\u001b[1;31mIndexError\u001b[0m: shape mismatch: indexing arrays could not be broadcast together with shapes (2,) (3,) "
     ]
    }
   ],
   "source": [
    "nd2[[1,3], [1,3,5]]"
   ]
  },
  {
   "cell_type": "code",
   "execution_count": 14,
   "id": "200072ee",
   "metadata": {},
   "outputs": [
    {
     "data": {
      "text/plain": [
       "array([-3,  4])"
      ]
     },
     "execution_count": 14,
     "metadata": {},
     "output_type": "execute_result"
    }
   ],
   "source": [
    "nd2[[1,4], [3,5]]  # 获取1行3列数据 和 4行5列数据"
   ]
  },
  {
   "cell_type": "markdown",
   "id": "3c5bbec8",
   "metadata": {},
   "source": [
    "### 方式1"
   ]
  },
  {
   "cell_type": "code",
   "execution_count": 15,
   "id": "fe56e78c",
   "metadata": {},
   "outputs": [
    {
     "data": {
      "text/plain": [
       "array([[-3, -3, 12],\n",
       "       [-5, 13,  7]])"
      ]
     },
     "execution_count": 15,
     "metadata": {},
     "output_type": "execute_result"
    }
   ],
   "source": [
    "nd2[[1,3]][:,[1,3,5]]  # 获取第1、3行 的 第 1、3、5列数据"
   ]
  },
  {
   "cell_type": "markdown",
   "id": "b6b143a4",
   "metadata": {},
   "source": [
    "### 方式2"
   ]
  },
  {
   "cell_type": "code",
   "execution_count": 17,
   "id": "e423237a",
   "metadata": {},
   "outputs": [
    {
     "data": {
      "text/plain": [
       "(array([[1],\n",
       "        [3]]),\n",
       " array([[1, 3, 5]]))"
      ]
     },
     "execution_count": 17,
     "metadata": {},
     "output_type": "execute_result"
    }
   ],
   "source": [
    "np.ix_([1,3],[1,3,5])"
   ]
  },
  {
   "cell_type": "code",
   "execution_count": 20,
   "id": "2c47d0cb",
   "metadata": {},
   "outputs": [
    {
     "data": {
      "text/plain": [
       "array([[-3, -3, 12],\n",
       "       [-5, 13,  7]])"
      ]
     },
     "execution_count": 20,
     "metadata": {},
     "output_type": "execute_result"
    }
   ],
   "source": [
    "# 获取第1、3行 的 第 1、3、5列数据\n",
    "index = np.ix_([1,3],[1,3,5])\n",
    "nd2[index]  # 相当于 nd2[[1,3]][:,[1,3,5]] "
   ]
  },
  {
   "cell_type": "markdown",
   "id": "067469af",
   "metadata": {},
   "source": [
    "## 形状改变"
   ]
  },
  {
   "cell_type": "code",
   "execution_count": null,
   "id": "56e41d4f",
   "metadata": {},
   "outputs": [],
   "source": []
  }
 ],
 "metadata": {
  "kernelspec": {
   "display_name": "Python 3 (ipykernel)",
   "language": "python",
   "name": "python3"
  },
  "language_info": {
   "codemirror_mode": {
    "name": "ipython",
    "version": 3
   },
   "file_extension": ".py",
   "mimetype": "text/x-python",
   "name": "python",
   "nbconvert_exporter": "python",
   "pygments_lexer": "ipython3",
   "version": "3.8.16"
  },
  "toc": {
   "base_numbering": 1,
   "nav_menu": {},
   "number_sections": true,
   "sideBar": true,
   "skip_h1_title": false,
   "title_cell": "Table of Contents",
   "title_sidebar": "Contents",
   "toc_cell": false,
   "toc_position": {
    "height": "calc(100% - 180px)",
    "left": "10px",
    "top": "150px",
    "width": "238.4px"
   },
   "toc_section_display": true,
   "toc_window_display": true
  }
 },
 "nbformat": 4,
 "nbformat_minor": 5
}
